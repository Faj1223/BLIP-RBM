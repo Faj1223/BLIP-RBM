{
 "cells": [
  {
   "cell_type": "markdown",
   "metadata": {},
   "source": [
    "Dans ce notebook nous testons les permissions et possibilités d'accès aux différentes composantes du modèle blip-image-captioning-base et nous testons aussi les  RBMs"
   ]
  },
  {
   "cell_type": "code",
   "execution_count": 1,
   "metadata": {},
   "outputs": [],
   "source": [
    "from transformers import BlipProcessor, BlipModel\n",
    "import torch\n",
    "from transformers import BlipProcessor, BlipForConditionalGeneration\n",
    "from PIL import Image\n",
    "import requests"
   ]
  },
  {
   "cell_type": "code",
   "execution_count": null,
   "metadata": {},
   "outputs": [],
   "source": [
    "# modèle chargé depuis le répertoire local\n",
    "save_directory = \"./models_saved/blip-image-captioning-base_local\"\n",
    "\n",
    "model = BlipForConditionalGeneration.from_pretrained(save_directory)\n",
    "processor = BlipProcessor.from_pretrained(save_directory)"
   ]
  },
  {
   "cell_type": "markdown",
   "metadata": {},
   "source": [
    "Encodeur d’image ViT (Vision Transformer)"
   ]
  },
  {
   "cell_type": "code",
   "execution_count": 4,
   "metadata": {},
   "outputs": [
    {
     "name": "stdout",
     "output_type": "stream",
     "text": [
      "torch.Size([1, 577, 768])\n"
     ]
    }
   ],
   "source": [
    "# Chargement de l'image locale\n",
    "image_path = \"images/sunset.jpg\"  \n",
    "image = Image.open(image_path).convert(\"RGB\")  \n",
    "\n",
    "# Prétraitement de l'image\n",
    "inputs = processor(images=image, return_tensors=\"pt\")\n",
    "\n",
    "# Récupérer les embeddings visuels (sortie du ViT)\n",
    "with torch.no_grad():\n",
    "    outputs = model.vision_model(**inputs)\n",
    "    vit_embeddings = outputs.last_hidden_state  # (batch_size, n_patches, hidden_dim)\n",
    "\n",
    "print(vit_embeddings.shape)  # Exemple : torch.Size([1, 197, 768]) pour ViT-B/16"
   ]
  },
  {
   "cell_type": "code",
   "execution_count": 5,
   "metadata": {},
   "outputs": [
    {
     "name": "stdout",
     "output_type": "stream",
     "text": [
      "BlipTextLMHeadModel(\n",
      "  (bert): BlipTextModel(\n",
      "    (embeddings): BlipTextEmbeddings(\n",
      "      (word_embeddings): Embedding(30524, 768, padding_idx=0)\n",
      "      (position_embeddings): Embedding(512, 768)\n",
      "      (LayerNorm): LayerNorm((768,), eps=1e-12, elementwise_affine=True)\n",
      "      (dropout): Dropout(p=0.0, inplace=False)\n",
      "    )\n",
      "    (encoder): BlipTextEncoder(\n",
      "      (layer): ModuleList(\n",
      "        (0-11): 12 x BlipTextLayer(\n",
      "          (attention): BlipTextAttention(\n",
      "            (self): BlipTextSelfAttention(\n",
      "              (query): Linear(in_features=768, out_features=768, bias=True)\n",
      "              (key): Linear(in_features=768, out_features=768, bias=True)\n",
      "              (value): Linear(in_features=768, out_features=768, bias=True)\n",
      "              (dropout): Dropout(p=0.0, inplace=False)\n",
      "            )\n",
      "            (output): BlipTextSelfOutput(\n",
      "              (dense): Linear(in_features=768, out_features=768, bias=True)\n",
      "              (LayerNorm): LayerNorm((768,), eps=1e-12, elementwise_affine=True)\n",
      "              (dropout): Dropout(p=0.0, inplace=False)\n",
      "            )\n",
      "          )\n",
      "          (crossattention): BlipTextAttention(\n",
      "            (self): BlipTextSelfAttention(\n",
      "              (query): Linear(in_features=768, out_features=768, bias=True)\n",
      "              (key): Linear(in_features=768, out_features=768, bias=True)\n",
      "              (value): Linear(in_features=768, out_features=768, bias=True)\n",
      "              (dropout): Dropout(p=0.0, inplace=False)\n",
      "            )\n",
      "            (output): BlipTextSelfOutput(\n",
      "              (dense): Linear(in_features=768, out_features=768, bias=True)\n",
      "              (LayerNorm): LayerNorm((768,), eps=1e-12, elementwise_affine=True)\n",
      "              (dropout): Dropout(p=0.0, inplace=False)\n",
      "            )\n",
      "          )\n",
      "          (intermediate): BlipTextIntermediate(\n",
      "            (dense): Linear(in_features=768, out_features=3072, bias=True)\n",
      "            (intermediate_act_fn): GELUActivation()\n",
      "          )\n",
      "          (output): BlipTextOutput(\n",
      "            (dense): Linear(in_features=3072, out_features=768, bias=True)\n",
      "            (LayerNorm): LayerNorm((768,), eps=1e-12, elementwise_affine=True)\n",
      "            (dropout): Dropout(p=0.0, inplace=False)\n",
      "          )\n",
      "        )\n",
      "      )\n",
      "    )\n",
      "  )\n",
      "  (cls): BlipTextOnlyMLMHead(\n",
      "    (predictions): BlipTextLMPredictionHead(\n",
      "      (transform): BlipTextPredictionHeadTransform(\n",
      "        (dense): Linear(in_features=768, out_features=768, bias=True)\n",
      "        (transform_act_fn): GELUActivation()\n",
      "        (LayerNorm): LayerNorm((768,), eps=1e-12, elementwise_affine=True)\n",
      "      )\n",
      "      (decoder): Linear(in_features=768, out_features=30524, bias=True)\n",
      "    )\n",
      "  )\n",
      ")\n"
     ]
    }
   ],
   "source": [
    "print(model.text_decoder)"
   ]
  },
  {
   "cell_type": "markdown",
   "metadata": {},
   "source": [
    "Entrainement du RBM"
   ]
  },
  {
   "cell_type": "code",
   "execution_count": null,
   "metadata": {},
   "outputs": [],
   "source": [
    "# Simulons des embeddings (100 images, embeddings de 768 dimensions)\n",
    "visible_dim = 768\n",
    "hidden_dim = 512\n",
    "rbm = RBM(visible_dim, hidden_dim)\n",
    "\n",
    "embeddings = torch.randn(100, visible_dim)  # Fake embeddings\n",
    "\n",
    "# Entraînement sur 10 epochs\n",
    "for epoch in range(10):\n",
    "    for v in embeddings:\n",
    "        rbm.contrastive_divergence(v.unsqueeze(0), k=1, lr=0.01)\n",
    "    print(f\"Epoch {epoch + 1} terminée\")\n"
   ]
  },
  {
   "cell_type": "markdown",
   "metadata": {},
   "source": [
    "Insertion dans Blip"
   ]
  },
  {
   "cell_type": "code",
   "execution_count": null,
   "metadata": {},
   "outputs": [],
   "source": [
    "from transformers import BlipProcessor, BlipForConditionalGeneration\n",
    "\n",
    "# Charger BLIP\n",
    "processor = BlipProcessor.from_pretrained(\"Salesforce/blip-image-captioning-base\")\n",
    "model = BlipForConditionalGeneration.from_pretrained(\"Salesforce/blip-image-captioning-base\")\n",
    "\n",
    "def refine_embeddings(image_tensor):\n",
    "    \"\"\"Pipeline encodeur + RBM\"\"\"\n",
    "    encoder_outputs = model.vision_model(image_tensor)  # Extraire les features\n",
    "    embeddings = encoder_outputs.last_hidden_state  # Embeddings bruts\n",
    "    refined_embeddings = rbm(embeddings)  # Passage dans la RBM\n",
    "    return refined_embeddings\n",
    "\n",
    "def generate_caption(image_tensor):\n",
    "    refined_embeddings = refine_embeddings(image_tensor)\n",
    "    \n",
    "    # Générer la caption avec les embeddings affinés\n",
    "    generated_ids = model.text_decoder.generate(inputs_embeds=refined_embeddings)\n",
    "    caption = processor.batch_decode(generated_ids, skip_special_tokens=True)[0]\n",
    "    \n",
    "    return caption\n"
   ]
  }
 ],
 "metadata": {
  "kernelspec": {
   "display_name": "ift6758-conda-env",
   "language": "python",
   "name": "python3"
  },
  "language_info": {
   "codemirror_mode": {
    "name": "ipython",
    "version": 3
   },
   "file_extension": ".py",
   "mimetype": "text/x-python",
   "name": "python",
   "nbconvert_exporter": "python",
   "pygments_lexer": "ipython3",
   "version": "3.9.21"
  }
 },
 "nbformat": 4,
 "nbformat_minor": 2
}
